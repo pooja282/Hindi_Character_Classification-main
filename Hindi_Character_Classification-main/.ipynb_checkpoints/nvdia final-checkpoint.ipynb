{
 "cells": [
  {
   "cell_type": "markdown",
   "metadata": {},
   "source": [
    "### Problem Statement\n",
    "- The given problem is to classify between text image and no text image."
   ]
  },
  {
   "cell_type": "markdown",
   "metadata": {},
   "source": [
    "## Importing Library"
   ]
  },
  {
   "cell_type": "code",
   "execution_count": 1,
   "metadata": {},
   "outputs": [],
   "source": [
    "import numpy as np\n",
    "import pandas as pd\n",
    "import tensorflow as tf\n",
    "for device in tf.config.get_visible_devices('GPU'):\n",
    "    tf.config.experimental.set_memory_growth(device, True)\n",
    "from tensorflow.keras.preprocessing.image import ImageDataGenerator, array_to_img, load_img, img_to_array\n",
    "from tensorflow.keras.models import *\n",
    "from tensorflow.keras.layers import *\n",
    "from tensorflow.keras.regularizers import *\n",
    "from tensorflow.keras.initializers import *\n",
    "from tensorflow.keras.optimizers import *\n",
    "from tensorflow.keras.callbacks import *\n",
    "from tensorflow.keras.applications import *\n",
    "import tensorflow.keras.losses as losses\n",
    "import imgaug.augmenters as iaa\n",
    "from tqdm import tqdm\n",
    "import cv2\n",
    "import json\n",
    "import os\n",
    "import re\n",
    "from skimage.io import *\n",
    "from skimage.transform import resize\n",
    "from skimage.color import rgb2gray\n",
    "import matplotlib.pyplot as plt\n",
    "import warnings\n",
    "warnings.filterwarnings('ignore')\n",
    "tf.config.experimental_run_functions_eagerly(True)"
   ]
  },
  {
   "cell_type": "markdown",
   "metadata": {},
   "source": [
    "### Data Directories and Image dimensions"
   ]
  },
  {
   "cell_type": "code",
   "execution_count": 2,
   "metadata": {},
   "outputs": [],
   "source": [
    "train_dir = 'training/'\n",
    "img_h, img_w = 64, 64\n",
    "dim = (img_h, img_w, 3)\n",
    "bs = 64"
   ]
  },
  {
   "cell_type": "markdown",
   "metadata": {},
   "source": [
    "#### Filtering the augumentated images fro non-augumented images:\n",
    "- Doing this will avoid overfitting of model"
   ]
  },
  {
   "cell_type": "code",
   "execution_count": 3,
   "metadata": {
    "scrolled": true
   },
   "outputs": [
    {
     "name": "stderr",
     "output_type": "stream",
     "text": [
      "100%|████████████████████████████████████████████████████████████████████████████████████| 2/2 [00:03<00:00,  1.95s/it]"
     ]
    },
    {
     "name": "stdout",
     "output_type": "stream",
     "text": [
      "(5459, 64, 64, 3) (416, 64, 64, 3)\n"
     ]
    },
    {
     "name": "stderr",
     "output_type": "stream",
     "text": [
      "\n"
     ]
    }
   ],
   "source": [
    "X_train, X_val, y_train, y_val = [], [], [], []\n",
    "for class_ in tqdm(os.listdir(train_dir)):\n",
    "    path_ = os.path.join(train_dir, class_)\n",
    "    for file in os.listdir(path_):\n",
    "        path = os.path.join(path_, file)\n",
    "        img = imread(path)\n",
    "        if len(re.findall('_none_none', file)) != 0:\n",
    "            X_val.append(img)\n",
    "            y_val.append(class_)\n",
    "        \n",
    "        else:\n",
    "            X_train.append(img)\n",
    "            y_train.append(class_)\n",
    "                   \n",
    "X_train = np.array(X_train)\n",
    "y_train = np.array(y_train)\n",
    "y_train = (y_train == 'hi').astype(\"int32\")\n",
    "\n",
    "X_val = np.array(X_val)\n",
    "y_val = np.array(y_val)\n",
    "y_val = (y_val == 'hi').astype(\"int32\")\n",
    "\n",
    "print(X_train.shape, X_val.shape)"
   ]
  },
  {
   "cell_type": "markdown",
   "metadata": {},
   "source": [
    "## Loading Images"
   ]
  },
  {
   "cell_type": "code",
   "execution_count": 4,
   "metadata": {
    "scrolled": true
   },
   "outputs": [],
   "source": [
    "bs = 64\n",
    "train_gen = ImageDataGenerator(rescale = 1/255)\n",
    "\n",
    "val_gen = ImageDataGenerator(rescale = 1/255)\n",
    "\n",
    "train = train_gen.flow(X_train, y_train, batch_size = bs)\n",
    "\n",
    "val = val_gen.flow(X_val, y_val, batch_size = 32)"
   ]
  },
  {
   "cell_type": "markdown",
   "metadata": {},
   "source": [
    "## Model Architecture"
   ]
  },
  {
   "cell_type": "code",
   "execution_count": 5,
   "metadata": {
    "scrolled": true
   },
   "outputs": [
    {
     "name": "stdout",
     "output_type": "stream",
     "text": [
      "Model: \"sequential\"\n",
      "_________________________________________________________________\n",
      "Layer (type)                 Output Shape              Param #   \n",
      "=================================================================\n",
      "conv2d (Conv2D)              (None, 64, 64, 256)       7168      \n",
      "_________________________________________________________________\n",
      "conv2d_1 (Conv2D)            (None, 64, 64, 256)       590080    \n",
      "_________________________________________________________________\n",
      "conv2d_2 (Conv2D)            (None, 64, 64, 256)       590080    \n",
      "_________________________________________________________________\n",
      "max_pooling2d (MaxPooling2D) (None, 32, 32, 256)       0         \n",
      "_________________________________________________________________\n",
      "conv2d_3 (Conv2D)            (None, 32, 32, 128)       295040    \n",
      "_________________________________________________________________\n",
      "conv2d_4 (Conv2D)            (None, 32, 32, 128)       147584    \n",
      "_________________________________________________________________\n",
      "conv2d_5 (Conv2D)            (None, 32, 32, 128)       147584    \n",
      "_________________________________________________________________\n",
      "max_pooling2d_1 (MaxPooling2 (None, 16, 16, 128)       0         \n",
      "_________________________________________________________________\n",
      "conv2d_6 (Conv2D)            (None, 16, 16, 64)        73792     \n",
      "_________________________________________________________________\n",
      "conv2d_7 (Conv2D)            (None, 16, 16, 64)        36928     \n",
      "_________________________________________________________________\n",
      "conv2d_8 (Conv2D)            (None, 16, 16, 64)        36928     \n",
      "_________________________________________________________________\n",
      "max_pooling2d_2 (MaxPooling2 (None, 8, 8, 64)          0         \n",
      "_________________________________________________________________\n",
      "conv2d_9 (Conv2D)            (None, 8, 8, 32)          18464     \n",
      "_________________________________________________________________\n",
      "conv2d_10 (Conv2D)           (None, 8, 8, 32)          9248      \n",
      "_________________________________________________________________\n",
      "conv2d_11 (Conv2D)           (None, 8, 8, 32)          9248      \n",
      "_________________________________________________________________\n",
      "max_pooling2d_3 (MaxPooling2 (None, 4, 4, 32)          0         \n",
      "_________________________________________________________________\n",
      "conv2d_12 (Conv2D)           (None, 4, 4, 16)          4624      \n",
      "_________________________________________________________________\n",
      "conv2d_13 (Conv2D)           (None, 4, 4, 16)          2320      \n",
      "_________________________________________________________________\n",
      "conv2d_14 (Conv2D)           (None, 4, 4, 16)          2320      \n",
      "_________________________________________________________________\n",
      "max_pooling2d_4 (MaxPooling2 (None, 2, 2, 16)          0         \n",
      "_________________________________________________________________\n",
      "global_max_pooling2d (Global (None, 16)                0         \n",
      "_________________________________________________________________\n",
      "Output (Dense)               (None, 1)                 17        \n",
      "=================================================================\n",
      "Total params: 1,971,425\n",
      "Trainable params: 1,971,425\n",
      "Non-trainable params: 0\n",
      "_________________________________________________________________\n"
     ]
    }
   ],
   "source": [
    "inp = Input((dim), name = 'Input')\n",
    "model = Sequential()\n",
    "model.add(inp)\n",
    "for filt in [256, 128, 64, 32, 16]:\n",
    "    model.add(Conv2D(filters = filt, kernel_size = 3, padding = 'same', activation = 'relu' , dilation_rate = 1))\n",
    "    model.add(Conv2D(filters = filt, kernel_size = 3, padding = 'same', activation = 'relu', dilation_rate = 2))\n",
    "    model.add(Conv2D(filters = filt, kernel_size = 3, padding = 'same', activation = 'relu', dilation_rate = 3))\n",
    "    model.add(MaxPool2D(2))\n",
    "\n",
    "model.add(GlobalMaxPool2D())\n",
    "\n",
    "model.add(Dense(units = 1, activation = 'sigmoid', name = 'Output'))\n",
    "\n",
    "model.compile('adam', 'binary_crossentropy', 'accuracy')\n",
    "model.summary()"
   ]
  },
  {
   "cell_type": "markdown",
   "metadata": {
    "scrolled": true
   },
   "source": [
    "tf.keras.utils.plot_model(model_1, show_shapes=True)"
   ]
  },
  {
   "cell_type": "markdown",
   "metadata": {},
   "source": [
    "## Training Model"
   ]
  },
  {
   "cell_type": "code",
   "execution_count": 6,
   "metadata": {
    "scrolled": true
   },
   "outputs": [
    {
     "name": "stdout",
     "output_type": "stream",
     "text": [
      "Epoch 1/100\n",
      "85/85 [==============================] - 40s 470ms/step - loss: 0.5757 - accuracy: 0.7514 - val_loss: 0.5546 - val_accuracy: 0.7552\n",
      "Epoch 2/100\n",
      "85/85 [==============================] - 35s 413ms/step - loss: 0.3625 - accuracy: 0.8571 - val_loss: 0.1847 - val_accuracy: 0.9010\n",
      "Epoch 3/100\n",
      "85/85 [==============================] - 35s 413ms/step - loss: 0.2599 - accuracy: 0.9025 - val_loss: 0.2071 - val_accuracy: 0.8802\n",
      "Epoch 4/100\n",
      "85/85 [==============================] - 35s 413ms/step - loss: 0.1814 - accuracy: 0.9331 - val_loss: 0.0576 - val_accuracy: 0.9948\n",
      "Epoch 5/100\n",
      "85/85 [==============================] - 35s 409ms/step - loss: 0.1990 - accuracy: 0.9331 - val_loss: 0.1070 - val_accuracy: 0.9688\n",
      "Epoch 6/100\n",
      "85/85 [==============================] - 35s 409ms/step - loss: 0.1580 - accuracy: 0.9431 - val_loss: 0.0910 - val_accuracy: 0.9844\n",
      "Epoch 7/100\n",
      "85/85 [==============================] - 35s 410ms/step - loss: 0.1036 - accuracy: 0.9629 - val_loss: 0.0609 - val_accuracy: 0.9792\n",
      "Epoch 8/100\n",
      "85/85 [==============================] - 35s 411ms/step - loss: 0.0902 - accuracy: 0.9720 - val_loss: 0.0455 - val_accuracy: 0.9844\n",
      "Epoch 9/100\n",
      "85/85 [==============================] - 35s 411ms/step - loss: 0.0518 - accuracy: 0.9831 - val_loss: 0.0189 - val_accuracy: 0.9948\n",
      "Epoch 10/100\n",
      "85/85 [==============================] - 35s 410ms/step - loss: 0.1040 - accuracy: 0.9655 - val_loss: 0.0708 - val_accuracy: 0.9740\n",
      "Epoch 11/100\n",
      "85/85 [==============================] - 35s 411ms/step - loss: 0.0681 - accuracy: 0.9785 - val_loss: 0.0154 - val_accuracy: 0.9948\n",
      "Epoch 12/100\n",
      "85/85 [==============================] - 35s 407ms/step - loss: 0.0605 - accuracy: 0.9815 - val_loss: 0.0189 - val_accuracy: 0.9948\n",
      "Epoch 13/100\n",
      "85/85 [==============================] - 35s 411ms/step - loss: 0.0360 - accuracy: 0.9894 - val_loss: 0.0134 - val_accuracy: 0.9948\n",
      "Epoch 14/100\n",
      "85/85 [==============================] - 35s 412ms/step - loss: 0.0697 - accuracy: 0.9796 - val_loss: 0.0116 - val_accuracy: 0.9896\n",
      "Epoch 15/100\n",
      "85/85 [==============================] - 35s 409ms/step - loss: 0.0368 - accuracy: 0.9898 - val_loss: 0.0076 - val_accuracy: 1.0000\n",
      "Epoch 16/100\n",
      "85/85 [==============================] - 35s 409ms/step - loss: 0.0234 - accuracy: 0.9928 - val_loss: 0.0129 - val_accuracy: 0.9948\n",
      "Epoch 17/100\n",
      "85/85 [==============================] - 35s 410ms/step - loss: 0.0265 - accuracy: 0.9917 - val_loss: 0.0196 - val_accuracy: 0.9948\n",
      "Epoch 18/100\n",
      "85/85 [==============================] - 35s 409ms/step - loss: 0.0162 - accuracy: 0.9944 - val_loss: 0.0683 - val_accuracy: 0.9792\n",
      "Epoch 19/100\n",
      "85/85 [==============================] - 35s 408ms/step - loss: 0.0164 - accuracy: 0.9961 - val_loss: 0.0084 - val_accuracy: 0.9948\n",
      "Epoch 20/100\n",
      "85/85 [==============================] - 35s 407ms/step - loss: 0.0152 - accuracy: 0.9952 - val_loss: 0.0907 - val_accuracy: 0.9844\n",
      "Epoch 21/100\n",
      "85/85 [==============================] - 35s 409ms/step - loss: 0.0198 - accuracy: 0.9954 - val_loss: 0.0152 - val_accuracy: 0.9948\n",
      "Epoch 22/100\n",
      "85/85 [==============================] - 35s 407ms/step - loss: 0.0450 - accuracy: 0.9837 - val_loss: 0.0388 - val_accuracy: 0.9792\n",
      "Epoch 23/100\n",
      "85/85 [==============================] - 35s 411ms/step - loss: 0.0133 - accuracy: 0.9957 - val_loss: 0.0023 - val_accuracy: 1.0000\n",
      "Epoch 24/100\n",
      "85/85 [==============================] - 35s 409ms/step - loss: 0.0258 - accuracy: 0.9920 - val_loss: 0.0036 - val_accuracy: 1.0000\n",
      "Epoch 25/100\n",
      "85/85 [==============================] - 35s 407ms/step - loss: 0.0173 - accuracy: 0.9956 - val_loss: 0.0199 - val_accuracy: 0.9896\n",
      "Epoch 26/100\n",
      "85/85 [==============================] - 35s 409ms/step - loss: 0.0115 - accuracy: 0.9965 - val_loss: 0.0369 - val_accuracy: 0.9896\n",
      "Epoch 27/100\n",
      "85/85 [==============================] - 35s 407ms/step - loss: 0.0081 - accuracy: 0.9974 - val_loss: 0.0247 - val_accuracy: 0.9948\n",
      "Epoch 28/100\n",
      "85/85 [==============================] - 35s 409ms/step - loss: 0.0095 - accuracy: 0.9970 - val_loss: 0.0149 - val_accuracy: 0.9948\n",
      "Epoch 29/100\n",
      "85/85 [==============================] - 35s 410ms/step - loss: 0.0030 - accuracy: 0.9993 - val_loss: 8.2767e-05 - val_accuracy: 1.0000\n",
      "Epoch 30/100\n",
      "85/85 [==============================] - 35s 411ms/step - loss: 0.0067 - accuracy: 0.9976 - val_loss: 0.0087 - val_accuracy: 0.9948\n",
      "Epoch 31/100\n",
      "85/85 [==============================] - 35s 413ms/step - loss: 0.0073 - accuracy: 0.9978 - val_loss: 0.0111 - val_accuracy: 0.9948\n",
      "Epoch 32/100\n",
      "85/85 [==============================] - 35s 413ms/step - loss: 0.0038 - accuracy: 0.9987 - val_loss: 2.7146e-05 - val_accuracy: 1.0000\n",
      "Epoch 33/100\n",
      "85/85 [==============================] - 35s 409ms/step - loss: 0.0185 - accuracy: 0.9937 - val_loss: 0.0437 - val_accuracy: 0.9948\n",
      "Epoch 34/100\n",
      "85/85 [==============================] - 35s 408ms/step - loss: 0.0139 - accuracy: 0.9968 - val_loss: 0.0220 - val_accuracy: 0.9948\n",
      "Epoch 35/100\n",
      "85/85 [==============================] - 35s 410ms/step - loss: 0.0205 - accuracy: 0.9933 - val_loss: 0.0106 - val_accuracy: 0.9948\n",
      "Epoch 36/100\n",
      "85/85 [==============================] - 35s 408ms/step - loss: 0.0127 - accuracy: 0.9965 - val_loss: 0.0054 - val_accuracy: 1.0000\n",
      "Epoch 37/100\n",
      "85/85 [==============================] - 35s 407ms/step - loss: 0.0016 - accuracy: 0.9994 - val_loss: 4.5187e-05 - val_accuracy: 1.0000\n",
      "Epoch 38/100\n",
      "85/85 [==============================] - 35s 410ms/step - loss: 0.0026 - accuracy: 0.9991 - val_loss: 0.0634 - val_accuracy: 0.9896\n",
      "Epoch 39/100\n",
      "85/85 [==============================] - 35s 409ms/step - loss: 0.0368 - accuracy: 0.9891 - val_loss: 0.0201 - val_accuracy: 0.9948\n",
      "Epoch 40/100\n",
      "85/85 [==============================] - 35s 410ms/step - loss: 0.0206 - accuracy: 0.9946 - val_loss: 0.0502 - val_accuracy: 0.9896\n",
      "Epoch 41/100\n",
      "85/85 [==============================] - 35s 414ms/step - loss: 0.0397 - accuracy: 0.9887 - val_loss: 0.0842 - val_accuracy: 0.9792\n",
      "Epoch 42/100\n",
      "85/85 [==============================] - 36s 418ms/step - loss: 0.0255 - accuracy: 0.9928 - val_loss: 2.5919e-05 - val_accuracy: 1.0000\n",
      "Epoch 43/100\n",
      "85/85 [==============================] - 36s 423ms/step - loss: 0.0053 - accuracy: 0.9981 - val_loss: 4.3387e-05 - val_accuracy: 1.0000\n",
      "Epoch 44/100\n",
      "85/85 [==============================] - 37s 433ms/step - loss: 0.0357 - accuracy: 0.9876 - val_loss: 0.0096 - val_accuracy: 0.9948\n",
      "Epoch 45/100\n",
      "85/85 [==============================] - 37s 430ms/step - loss: 0.0076 - accuracy: 0.9974 - val_loss: 5.2793e-04 - val_accuracy: 1.0000\n",
      "Epoch 46/100\n",
      "85/85 [==============================] - 37s 432ms/step - loss: 0.0021 - accuracy: 0.9991 - val_loss: 0.0014 - val_accuracy: 1.0000\n",
      "Epoch 47/100\n",
      "85/85 [==============================] - 37s 435ms/step - loss: 5.2528e-04 - accuracy: 0.9996 - val_loss: 5.3811e-06 - val_accuracy: 1.0000\n",
      "Epoch 48/100\n",
      "85/85 [==============================] - 36s 420ms/step - loss: 6.7618e-04 - accuracy: 0.9998 - val_loss: 0.0014 - val_accuracy: 1.0000\n",
      "Epoch 49/100\n",
      "85/85 [==============================] - 35s 408ms/step - loss: 0.0012 - accuracy: 0.9996 - val_loss: 2.0894e-04 - val_accuracy: 1.0000\n",
      "Epoch 50/100\n",
      "85/85 [==============================] - 35s 409ms/step - loss: 5.8332e-04 - accuracy: 0.9998 - val_loss: 2.4310e-04 - val_accuracy: 1.0000\n",
      "Epoch 51/100\n",
      "85/85 [==============================] - 35s 409ms/step - loss: 3.2981e-04 - accuracy: 0.9998 - val_loss: 1.4033e-04 - val_accuracy: 1.0000\n",
      "Epoch 52/100\n",
      "85/85 [==============================] - 35s 407ms/step - loss: 2.9635e-04 - accuracy: 0.9998 - val_loss: 1.3506e-04 - val_accuracy: 1.0000\n",
      "Epoch 53/100\n",
      "85/85 [==============================] - 35s 412ms/step - loss: 1.8380e-04 - accuracy: 1.0000 - val_loss: 1.8316e-07 - val_accuracy: 1.0000\n",
      "Epoch 54/100\n",
      "85/85 [==============================] - 35s 408ms/step - loss: 1.1887e-04 - accuracy: 1.0000 - val_loss: 1.0358e-04 - val_accuracy: 1.0000\n",
      "Epoch 55/100\n",
      "85/85 [==============================] - 35s 414ms/step - loss: 1.3197e-04 - accuracy: 1.0000 - val_loss: 0.0000e+00 - val_accuracy: 1.0000\n",
      "Epoch 56/100\n",
      "85/85 [==============================] - 35s 408ms/step - loss: 0.0344 - accuracy: 0.9907 - val_loss: 0.0032 - val_accuracy: 1.0000\n"
     ]
    },
    {
     "name": "stdout",
     "output_type": "stream",
     "text": [
      "Epoch 57/100\n",
      "85/85 [==============================] - 35s 407ms/step - loss: 0.0141 - accuracy: 0.9957 - val_loss: 0.0044 - val_accuracy: 1.0000\n",
      "Epoch 58/100\n",
      "85/85 [==============================] - 36s 421ms/step - loss: 0.0060 - accuracy: 0.9981 - val_loss: 0.0119 - val_accuracy: 0.9948\n",
      "Epoch 59/100\n",
      "85/85 [==============================] - 34s 405ms/step - loss: 0.0176 - accuracy: 0.9941 - val_loss: 0.0624 - val_accuracy: 0.9948\n",
      "Epoch 60/100\n",
      "85/85 [==============================] - 35s 407ms/step - loss: 0.0043 - accuracy: 0.9987 - val_loss: 0.0314 - val_accuracy: 0.9896\n",
      "Epoch 61/100\n",
      "85/85 [==============================] - 35s 406ms/step - loss: 0.0015 - accuracy: 0.9996 - val_loss: 2.3270e-05 - val_accuracy: 1.0000\n",
      "Epoch 62/100\n",
      "85/85 [==============================] - 35s 407ms/step - loss: 0.0010 - accuracy: 0.9996 - val_loss: 8.5770e-06 - val_accuracy: 1.0000\n",
      "Epoch 63/100\n",
      "85/85 [==============================] - 35s 408ms/step - loss: 5.2782e-04 - accuracy: 0.9998 - val_loss: 0.0019 - val_accuracy: 1.0000\n",
      "Epoch 64/100\n",
      "85/85 [==============================] - 34s 406ms/step - loss: 5.0525e-04 - accuracy: 0.9998 - val_loss: 1.0644e-04 - val_accuracy: 1.0000\n",
      "Epoch 65/100\n",
      "85/85 [==============================] - 35s 406ms/step - loss: 1.3821e-04 - accuracy: 1.0000 - val_loss: 1.7858e-04 - val_accuracy: 1.0000\n",
      "Epoch 66/100\n",
      "85/85 [==============================] - 34s 405ms/step - loss: 0.0125 - accuracy: 0.9974 - val_loss: 0.0224 - val_accuracy: 0.9896\n",
      "Epoch 67/100\n",
      "85/85 [==============================] - 35s 407ms/step - loss: 0.0123 - accuracy: 0.9965 - val_loss: 0.0011 - val_accuracy: 1.0000\n",
      "Epoch 68/100\n",
      "85/85 [==============================] - 35s 407ms/step - loss: 0.0071 - accuracy: 0.9983 - val_loss: 4.0019e-04 - val_accuracy: 1.0000\n",
      "Epoch 69/100\n",
      "85/85 [==============================] - 34s 405ms/step - loss: 0.0063 - accuracy: 0.9985 - val_loss: 0.0030 - val_accuracy: 1.0000\n",
      "Epoch 70/100\n",
      "85/85 [==============================] - 35s 407ms/step - loss: 0.0011 - accuracy: 0.9998 - val_loss: 6.0522e-04 - val_accuracy: 1.0000\n",
      "Epoch 71/100\n",
      "85/85 [==============================] - 34s 405ms/step - loss: 5.7181e-04 - accuracy: 0.9998 - val_loss: 5.3612e-06 - val_accuracy: 1.0000\n",
      "Epoch 72/100\n",
      "85/85 [==============================] - 35s 407ms/step - loss: 7.0686e-04 - accuracy: 0.9998 - val_loss: 6.5749e-05 - val_accuracy: 1.0000\n",
      "Epoch 73/100\n",
      "85/85 [==============================] - 35s 406ms/step - loss: 9.5246e-04 - accuracy: 0.9994 - val_loss: 3.2617e-05 - val_accuracy: 1.0000\n",
      "Epoch 74/100\n",
      "85/85 [==============================] - 35s 407ms/step - loss: 0.0129 - accuracy: 0.9970 - val_loss: 0.0358 - val_accuracy: 0.9792\n",
      "Epoch 75/100\n",
      "85/85 [==============================] - 35s 407ms/step - loss: 0.0021 - accuracy: 0.9991 - val_loss: 1.4363e-04 - val_accuracy: 1.0000\n",
      "Epoch 76/100\n",
      "85/85 [==============================] - 34s 406ms/step - loss: 0.0210 - accuracy: 0.9943 - val_loss: 0.0116 - val_accuracy: 0.9948\n",
      "Epoch 77/100\n",
      "85/85 [==============================] - 35s 407ms/step - loss: 0.0298 - accuracy: 0.9902 - val_loss: 0.0338 - val_accuracy: 0.9896\n",
      "Epoch 78/100\n",
      "85/85 [==============================] - 34s 406ms/step - loss: 0.0275 - accuracy: 0.9924 - val_loss: 0.0047 - val_accuracy: 1.0000\n",
      "Epoch 79/100\n",
      "85/85 [==============================] - 35s 407ms/step - loss: 0.0068 - accuracy: 0.9976 - val_loss: 2.9624e-04 - val_accuracy: 1.0000\n",
      "Epoch 80/100\n",
      "85/85 [==============================] - 35s 407ms/step - loss: 0.0046 - accuracy: 0.9987 - val_loss: 0.0016 - val_accuracy: 1.0000\n",
      "Epoch 81/100\n",
      "85/85 [==============================] - 35s 407ms/step - loss: 0.0011 - accuracy: 0.9994 - val_loss: 1.6226e-05 - val_accuracy: 1.0000\n",
      "Epoch 82/100\n",
      "85/85 [==============================] - 35s 409ms/step - loss: 3.7008e-04 - accuracy: 0.9998 - val_loss: 1.8324e-05 - val_accuracy: 1.0000\n",
      "Epoch 83/100\n",
      "85/85 [==============================] - 35s 407ms/step - loss: 0.0057 - accuracy: 0.9983 - val_loss: 0.0029 - val_accuracy: 1.0000\n",
      "Epoch 84/100\n",
      "85/85 [==============================] - 35s 409ms/step - loss: 0.0034 - accuracy: 0.9993 - val_loss: 0.0178 - val_accuracy: 0.9896\n",
      "Epoch 85/100\n",
      "85/85 [==============================] - 35s 410ms/step - loss: 0.0129 - accuracy: 0.9965 - val_loss: 0.0171 - val_accuracy: 0.9948\n",
      "Epoch 86/100\n",
      "85/85 [==============================] - 36s 420ms/step - loss: 0.0020 - accuracy: 0.9991 - val_loss: 6.7479e-04 - val_accuracy: 1.0000\n",
      "Epoch 87/100\n",
      "85/85 [==============================] - 35s 414ms/step - loss: 0.0031 - accuracy: 0.9989 - val_loss: 6.9913e-05 - val_accuracy: 1.0000\n",
      "Epoch 88/100\n",
      "85/85 [==============================] - 34s 405ms/step - loss: 0.0022 - accuracy: 0.9994 - val_loss: 0.0054 - val_accuracy: 0.9948\n",
      "Epoch 89/100\n",
      "85/85 [==============================] - 35s 407ms/step - loss: 8.0029e-04 - accuracy: 0.9998 - val_loss: 0.0133 - val_accuracy: 0.9948\n",
      "Epoch 90/100\n",
      "85/85 [==============================] - 34s 405ms/step - loss: 3.6874e-04 - accuracy: 0.9998 - val_loss: 0.0188 - val_accuracy: 0.9896\n",
      "Epoch 91/100\n",
      "85/85 [==============================] - 35s 407ms/step - loss: 1.6499e-04 - accuracy: 0.9998 - val_loss: 5.5291e-07 - val_accuracy: 1.0000\n",
      "Epoch 92/100\n",
      "85/85 [==============================] - 35s 407ms/step - loss: 1.1459e-04 - accuracy: 1.0000 - val_loss: 0.0070 - val_accuracy: 0.9948\n",
      "Epoch 93/100\n",
      "85/85 [==============================] - 35s 406ms/step - loss: 2.0128e-05 - accuracy: 1.0000 - val_loss: 0.0428 - val_accuracy: 0.9844\n",
      "Epoch 94/100\n",
      "85/85 [==============================] - 35s 415ms/step - loss: 5.8584e-06 - accuracy: 1.0000 - val_loss: 0.0356 - val_accuracy: 0.9896\n",
      "Epoch 95/100\n",
      "85/85 [==============================] - 35s 409ms/step - loss: 3.5893e-06 - accuracy: 1.0000 - val_loss: 0.0103 - val_accuracy: 0.9948\n",
      "Epoch 96/100\n",
      "85/85 [==============================] - 35s 409ms/step - loss: 2.6352e-06 - accuracy: 1.0000 - val_loss: 0.0481 - val_accuracy: 0.9844\n",
      "Epoch 97/100\n",
      "85/85 [==============================] - 35s 408ms/step - loss: 2.1079e-06 - accuracy: 1.0000 - val_loss: 0.0381 - val_accuracy: 0.9896\n",
      "Epoch 98/100\n",
      "85/85 [==============================] - 34s 405ms/step - loss: 1.7408e-06 - accuracy: 1.0000 - val_loss: 0.0489 - val_accuracy: 0.9844\n",
      "Epoch 99/100\n",
      "85/85 [==============================] - 36s 421ms/step - loss: 1.5031e-06 - accuracy: 1.0000 - val_loss: 0.0214 - val_accuracy: 0.9896\n",
      "Epoch 100/100\n",
      "85/85 [==============================] - 35s 417ms/step - loss: 1.3260e-06 - accuracy: 1.0000 - val_loss: 0.0108 - val_accuracy: 0.9948\n"
     ]
    },
    {
     "data": {
      "text/plain": [
       "<tensorflow.python.keras.callbacks.History at 0x2025d2a6130>"
      ]
     },
     "execution_count": 6,
     "metadata": {},
     "output_type": "execute_result"
    }
   ],
   "source": [
    "check = ModelCheckpoint('model_1.h5', save_best_only = True)\n",
    "early = EarlyStopping(patience = 2, restore_best_weights = True)\n",
    "model.fit(train, epochs = 100, validation_data = (val), steps_per_epoch = train.n//bs,\n",
    "              callbacks = [check], validation_steps = val.n//bs)"
   ]
  },
  {
   "cell_type": "markdown",
   "metadata": {},
   "source": [
    "## Model Evaluating and Visualization"
   ]
  },
  {
   "cell_type": "code",
   "execution_count": 7,
   "metadata": {
    "scrolled": true
   },
   "outputs": [
    {
     "data": {
      "image/png": "[encoded data removed]",
      "text/plain": [
       "<Figure size 1296x432 with 2 Axes>"
      ]
     },
     "metadata": {
      "needs_background": "light"
     },
     "output_type": "display_data"
    }
   ],
   "source": [
    "fig, ax = plt.subplots(1, 2)\n",
    "\n",
    "train_losses, val_losses = model.history.history['loss'], model.history.history['val_loss']\n",
    "train_acc, val_acc = model.history.history['accuracy'], model.history.history['val_accuracy']\n",
    "ax[0].plot(list(range(1, len(train_losses)+1)), train_losses, label = 'Train')\n",
    "ax[0].plot(list(range(1, len(train_losses)+1)), val_losses, label = 'Validation')\n",
    "ax[0].legend()\n",
    "ax[0].set_title('Epoch Vs Loss')\n",
    "\n",
    "ax[1].plot(list(range(1, len(train_losses)+1)), train_acc, label = 'Train')\n",
    "ax[1].plot(list(range(1, len(train_losses)+1)), val_acc, label = 'Validation')\n",
    "ax[1].legend()\n",
    "ax[1].set_title('Epoch Vs Accuracy')\n",
    "fig.set_figheight(6)\n",
    "fig.set_figwidth(18)\n",
    "plt.show()"
   ]
  },
  {
   "cell_type": "code",
   "execution_count": 10,
   "metadata": {},
   "outputs": [
    {
     "name": "stdout",
     "output_type": "stream",
     "text": [
      "13/13 [==============================] - 1s 71ms/step - loss: 3.3684e-04 - accuracy: 1.0000\n"
     ]
    },
    {
     "data": {
      "text/plain": [
       "[0.0003368360921740532, 1.0]"
      ]
     },
     "execution_count": 10,
     "metadata": {},
     "output_type": "execute_result"
    }
   ],
   "source": [
    "model.evaluate(val)"
   ]
  },
  {
   "cell_type": "code",
   "execution_count": 3,
   "metadata": {},
   "outputs": [],
   "source": [
    "model = load_model('model_1.h5')"
   ]
  },
  {
   "cell_type": "code",
   "execution_count": 5,
   "metadata": {},
   "outputs": [],
   "source": [
    "result = {}\n",
    "files = os.listdir('test')\n",
    "for file in files:\n",
    "    path = os.path.join('test', file)\n",
    "    img = imread(path)/255\n",
    "    img = np.expand_dims(img, 0)\n",
    "    pred = (model.predict(img) > 0.5).astype(\"int32\")[0][0]\n",
    "    result[file] = int(pred)\n",
    "json.dump(result, open('result.json', 'w'))"
   ]
  }
 ],
 "metadata": {
  "kernelspec": {
   "display_name": "Python 3",
   "language": "python",
   "name": "python3"
  },
  "language_info": {
   "codemirror_mode": {
    "name": "ipython",
    "version": 3
   },
   "file_extension": ".py",
   "mimetype": "text/x-python",
   "name": "python",
   "nbconvert_exporter": "python",
   "pygments_lexer": "ipython3",
   "version": "3.7.1"
  }
 },
 "nbformat": 4,
 "nbformat_minor": 5
}
